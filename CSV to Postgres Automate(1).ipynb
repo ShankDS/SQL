{
 "cells": [
  {
   "cell_type": "markdown",
   "id": "a2c54259",
   "metadata": {},
   "source": [
    "Importing a CSV file into a postgres database\n",
    "Steps:\n",
    "    1.Import the csv file into a pandas df\n",
    "    2.clean the table name and remove all extra symbols,spaces, capital letters\n",
    "    3.clean the column headers and remove all extra symbols,spaces, capital letters\n",
    "    4.write the create table SQL statement\n",
    "    5.import the data into the db"
   ]
  },
  {
   "cell_type": "code",
   "execution_count": 7,
   "id": "4d9950a4",
   "metadata": {},
   "outputs": [],
   "source": [
    "import os\n",
    "import numpy as np\n",
    "import pandas as pd\n",
    "import psycopg2"
   ]
  },
  {
   "cell_type": "code",
   "execution_count": 10,
   "id": "7cc64d49",
   "metadata": {},
   "outputs": [
    {
     "data": {
      "text/html": [
       "<div>\n",
       "<style scoped>\n",
       "    .dataframe tbody tr th:only-of-type {\n",
       "        vertical-align: middle;\n",
       "    }\n",
       "\n",
       "    .dataframe tbody tr th {\n",
       "        vertical-align: top;\n",
       "    }\n",
       "\n",
       "    .dataframe thead th {\n",
       "        text-align: right;\n",
       "    }\n",
       "</style>\n",
       "<table border=\"1\" class=\"dataframe\">\n",
       "  <thead>\n",
       "    <tr style=\"text-align: right;\">\n",
       "      <th></th>\n",
       "      <th>Make</th>\n",
       "      <th>Model</th>\n",
       "      <th>Vehicle Class</th>\n",
       "      <th>Engine Size(L)</th>\n",
       "      <th>Cylinders</th>\n",
       "      <th>Transmission</th>\n",
       "      <th>Fuel Type</th>\n",
       "      <th>Fuel Consumption City (L/100 km)</th>\n",
       "      <th>Fuel Consumption Hwy (L/100 km)</th>\n",
       "      <th>Fuel Consumption Comb (L/100 km)</th>\n",
       "      <th>Fuel Consumption Comb (mpg)</th>\n",
       "      <th>CO2 Emissions(g/km)</th>\n",
       "    </tr>\n",
       "  </thead>\n",
       "  <tbody>\n",
       "    <tr>\n",
       "      <th>0</th>\n",
       "      <td>ACURA</td>\n",
       "      <td>ILX</td>\n",
       "      <td>COMPACT</td>\n",
       "      <td>2.0</td>\n",
       "      <td>4</td>\n",
       "      <td>AS5</td>\n",
       "      <td>Z</td>\n",
       "      <td>9.9</td>\n",
       "      <td>6.7</td>\n",
       "      <td>8.5</td>\n",
       "      <td>33</td>\n",
       "      <td>196</td>\n",
       "    </tr>\n",
       "    <tr>\n",
       "      <th>1</th>\n",
       "      <td>ACURA</td>\n",
       "      <td>ILX</td>\n",
       "      <td>COMPACT</td>\n",
       "      <td>2.4</td>\n",
       "      <td>4</td>\n",
       "      <td>M6</td>\n",
       "      <td>Z</td>\n",
       "      <td>11.2</td>\n",
       "      <td>7.7</td>\n",
       "      <td>9.6</td>\n",
       "      <td>29</td>\n",
       "      <td>221</td>\n",
       "    </tr>\n",
       "    <tr>\n",
       "      <th>2</th>\n",
       "      <td>ACURA</td>\n",
       "      <td>ILX HYBRID</td>\n",
       "      <td>COMPACT</td>\n",
       "      <td>1.5</td>\n",
       "      <td>4</td>\n",
       "      <td>AV7</td>\n",
       "      <td>Z</td>\n",
       "      <td>6.0</td>\n",
       "      <td>5.8</td>\n",
       "      <td>5.9</td>\n",
       "      <td>48</td>\n",
       "      <td>136</td>\n",
       "    </tr>\n",
       "    <tr>\n",
       "      <th>3</th>\n",
       "      <td>ACURA</td>\n",
       "      <td>MDX 4WD</td>\n",
       "      <td>SUV - SMALL</td>\n",
       "      <td>3.5</td>\n",
       "      <td>6</td>\n",
       "      <td>AS6</td>\n",
       "      <td>Z</td>\n",
       "      <td>12.7</td>\n",
       "      <td>9.1</td>\n",
       "      <td>11.1</td>\n",
       "      <td>25</td>\n",
       "      <td>255</td>\n",
       "    </tr>\n",
       "    <tr>\n",
       "      <th>4</th>\n",
       "      <td>ACURA</td>\n",
       "      <td>RDX AWD</td>\n",
       "      <td>SUV - SMALL</td>\n",
       "      <td>3.5</td>\n",
       "      <td>6</td>\n",
       "      <td>AS6</td>\n",
       "      <td>Z</td>\n",
       "      <td>12.1</td>\n",
       "      <td>8.7</td>\n",
       "      <td>10.6</td>\n",
       "      <td>27</td>\n",
       "      <td>244</td>\n",
       "    </tr>\n",
       "  </tbody>\n",
       "</table>\n",
       "</div>"
      ],
      "text/plain": [
       "    Make       Model Vehicle Class  Engine Size(L)  Cylinders Transmission  \\\n",
       "0  ACURA         ILX       COMPACT             2.0          4          AS5   \n",
       "1  ACURA         ILX       COMPACT             2.4          4           M6   \n",
       "2  ACURA  ILX HYBRID       COMPACT             1.5          4          AV7   \n",
       "3  ACURA     MDX 4WD   SUV - SMALL             3.5          6          AS6   \n",
       "4  ACURA     RDX AWD   SUV - SMALL             3.5          6          AS6   \n",
       "\n",
       "  Fuel Type  Fuel Consumption City (L/100 km)  \\\n",
       "0         Z                               9.9   \n",
       "1         Z                              11.2   \n",
       "2         Z                               6.0   \n",
       "3         Z                              12.7   \n",
       "4         Z                              12.1   \n",
       "\n",
       "   Fuel Consumption Hwy (L/100 km)  Fuel Consumption Comb (L/100 km)  \\\n",
       "0                              6.7                               8.5   \n",
       "1                              7.7                               9.6   \n",
       "2                              5.8                               5.9   \n",
       "3                              9.1                              11.1   \n",
       "4                              8.7                              10.6   \n",
       "\n",
       "   Fuel Consumption Comb (mpg)  CO2 Emissions(g/km)  \n",
       "0                           33                  196  \n",
       "1                           29                  221  \n",
       "2                           48                  136  \n",
       "3                           25                  255  \n",
       "4                           27                  244  "
      ]
     },
     "execution_count": 10,
     "metadata": {},
     "output_type": "execute_result"
    }
   ],
   "source": [
    "df=pd.read_csv(\"CO2 Emissions_Canada.csv\")\n",
    "df.head()"
   ]
  },
  {
   "cell_type": "markdown",
   "id": "fa0a898e",
   "metadata": {},
   "source": [
    "#clean table name\n",
    "1. lower case letters\n",
    "2. remove all white spaces\n",
    "3.replace\",/,\\\\,# with _"
   ]
  },
  {
   "cell_type": "code",
   "execution_count": 11,
   "id": "ce3b89d9",
   "metadata": {},
   "outputs": [
    {
     "data": {
      "text/plain": [
       "'co2emissions_canada'"
      ]
     },
     "execution_count": 11,
     "metadata": {},
     "output_type": "execute_result"
    }
   ],
   "source": [
    "file=\"CO2 Emissions_Canada\"\n",
    "clean_tbl_name=file.lower().replace(\" \",\"\").replace(\"?\",\"\").replace(\"-\",\"_\").replace(r\"/\",\"_\").replace(\"%\",\"\").replace(\")\",\"\").replace(r\"(\",\"\").replace(\"$\",\"\")\n",
    "clean_tbl_name"
   ]
  },
  {
   "cell_type": "markdown",
   "id": "641d1759",
   "metadata": {},
   "source": [
    "#clean header name\n",
    "\n",
    "    lower case letters\n",
    "    remove all white spaces\n",
    "    replace\",/,\\,# with _\n",
    "\n"
   ]
  },
  {
   "cell_type": "code",
   "execution_count": 13,
   "id": "c5ba5f2d",
   "metadata": {},
   "outputs": [
    {
     "data": {
      "text/plain": [
       "Index(['make', 'model', 'vehicleclass', 'enginesizel', 'cylinders',\n",
       "       'transmission', 'fueltype', 'fuelconsumptioncityl_100km',\n",
       "       'fuelconsumptionhwyl_100km', 'fuelconsumptioncombl_100km',\n",
       "       'fuelconsumptioncombmpg', 'co2emissionsg_km'],\n",
       "      dtype='object')"
      ]
     },
     "execution_count": 13,
     "metadata": {},
     "output_type": "execute_result"
    }
   ],
   "source": [
    "#using list comprehension\n",
    "df.columns=[x.lower().replace(\" \",\"\").replace(\"?\",\"\").replace(\"-\",\"_\").replace(r\"/\",\"_\").replace(\"%\",\"\").replace(\")\",\"\").replace(r\"(\",\"\").replace(\"$\",\"\") for x in df.columns]\n",
    "df.columns"
   ]
  },
  {
   "cell_type": "code",
   "execution_count": 15,
   "id": "800ad7b6",
   "metadata": {},
   "outputs": [
    {
     "data": {
      "text/plain": [
       "make                           object\n",
       "model                          object\n",
       "vehicleclass                   object\n",
       "enginesizel                   float64\n",
       "cylinders                       int64\n",
       "transmission                   object\n",
       "fueltype                       object\n",
       "fuelconsumptioncityl_100km    float64\n",
       "fuelconsumptionhwyl_100km     float64\n",
       "fuelconsumptioncombl_100km    float64\n",
       "fuelconsumptioncombmpg          int64\n",
       "co2emissionsg_km                int64\n",
       "dtype: object"
      ]
     },
     "execution_count": 15,
     "metadata": {},
     "output_type": "execute_result"
    }
   ],
   "source": [
    "df.dtypes"
   ]
  },
  {
   "cell_type": "code",
   "execution_count": 18,
   "id": "a53b57d7",
   "metadata": {},
   "outputs": [
    {
     "ename": "SyntaxError",
     "evalue": "invalid syntax (<ipython-input-18-b79b17247eae>, line 1)",
     "output_type": "error",
     "traceback": [
      "\u001b[1;36m  File \u001b[1;32m\"<ipython-input-18-b79b17247eae>\"\u001b[1;36m, line \u001b[1;32m1\u001b[0m\n\u001b[1;33m    create table co2emissions_canada\u001b[0m\n\u001b[1;37m           ^\u001b[0m\n\u001b[1;31mSyntaxError\u001b[0m\u001b[1;31m:\u001b[0m invalid syntax\n"
     ]
    }
   ],
   "source": [
    "create table co2emissions_canada\n",
    "(\n",
    "make               varchar,\n",
    "model              varchar,\n",
    "vehicleclass       varchar,\n",
    "enginesizel        float,\n",
    "cylinders          float,\n",
    "transmission       varchar,\n",
    "fueltype           varchar,\n",
    "fuelconsumptioncityl_100km float,\n",
    "fuelconsumptionhwyl_100km  float,\n",
    "fuelconsumptioncombl_100km float,\n",
    "fuelconsumptioncombmpg     float,\n",
    "co2emissionsg_km           float\n",
    ");"
   ]
  },
  {
   "cell_type": "code",
   "execution_count": 17,
   "id": "0cfa526f",
   "metadata": {},
   "outputs": [
    {
     "data": {
      "text/plain": [
       "{'object': 'varchar',\n",
       " 'float64': 'float',\n",
       " 'datetime64': 'timestap',\n",
       " 'timedelta64[ns]': 'varchar'}"
      ]
     },
     "execution_count": 17,
     "metadata": {},
     "output_type": "execute_result"
    }
   ],
   "source": [
    "#create disctonary to map data types\n",
    "replacements={\n",
    "    'object': 'varchar',\n",
    "    'float64':'float',\n",
    "    'datetime64':'timestap',\n",
    "    'timedelta64[ns]':'varchar'\n",
    "}\n",
    "replacements"
   ]
  },
  {
   "cell_type": "code",
   "execution_count": 21,
   "id": "1a3f91cd",
   "metadata": {},
   "outputs": [
    {
     "data": {
      "text/plain": [
       "'make varchar,model varchar,vehicleclass varchar,enginesizel float,cylinders int64,transmission varchar,fueltype varchar,fuelconsumptioncityl_100km float,fuelconsumptionhwyl_100km float,fuelconsumptioncombl_100km float,fuelconsumptioncombmpg int64,co2emissionsg_km int64'"
      ]
     },
     "execution_count": 21,
     "metadata": {},
     "output_type": "execute_result"
    }
   ],
   "source": [
    "# , is joined for column and datatype \n",
    "col_str=\",\".join(\"{} {}\".format(n,d)for (n,d)in zip(df.columns,df.dtypes.replace(replacements)))\n",
    "col_str"
   ]
  },
  {
   "cell_type": "code",
   "execution_count": null,
   "id": "51c6c9e8",
   "metadata": {},
   "outputs": [],
   "source": []
  }
 ],
 "metadata": {
  "kernelspec": {
   "display_name": "Python 3",
   "language": "python",
   "name": "python3"
  },
  "language_info": {
   "codemirror_mode": {
    "name": "ipython",
    "version": 3
   },
   "file_extension": ".py",
   "mimetype": "text/x-python",
   "name": "python",
   "nbconvert_exporter": "python",
   "pygments_lexer": "ipython3",
   "version": "3.8.8"
  }
 },
 "nbformat": 4,
 "nbformat_minor": 5
}
