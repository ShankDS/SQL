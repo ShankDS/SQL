{
 "cells": [
  {
   "cell_type": "code",
   "execution_count": 21,
   "id": "1d174447",
   "metadata": {},
   "outputs": [],
   "source": [
    "import pandas as pd\n",
    "import pyodbc\n",
    "\n"
   ]
  },
  {
   "cell_type": "code",
   "execution_count": 23,
   "id": "a87b9183",
   "metadata": {},
   "outputs": [
    {
     "data": {
      "text/html": [
       "<div>\n",
       "<style scoped>\n",
       "    .dataframe tbody tr th:only-of-type {\n",
       "        vertical-align: middle;\n",
       "    }\n",
       "\n",
       "    .dataframe tbody tr th {\n",
       "        vertical-align: top;\n",
       "    }\n",
       "\n",
       "    .dataframe thead th {\n",
       "        text-align: right;\n",
       "    }\n",
       "</style>\n",
       "<table border=\"1\" class=\"dataframe\">\n",
       "  <thead>\n",
       "    <tr style=\"text-align: right;\">\n",
       "      <th></th>\n",
       "      <th>BusinessEntityID</th>\n",
       "      <th>AddressID</th>\n",
       "      <th>AddressTypeID</th>\n",
       "      <th>rowguid</th>\n",
       "      <th>ModifiedDate</th>\n",
       "    </tr>\n",
       "  </thead>\n",
       "  <tbody>\n",
       "    <tr>\n",
       "      <th>0</th>\n",
       "      <td>1</td>\n",
       "      <td>249</td>\n",
       "      <td>2</td>\n",
       "      <td>3A5D0A00-6739-4DFE-A8F7-844CD9DEE3DF</td>\n",
       "      <td>2014-09-12 11:15:06.967</td>\n",
       "    </tr>\n",
       "    <tr>\n",
       "      <th>1</th>\n",
       "      <td>2</td>\n",
       "      <td>293</td>\n",
       "      <td>2</td>\n",
       "      <td>84AE7057-EDF4-4C51-8B8D-3AEAEFBFB4A1</td>\n",
       "      <td>2014-09-12 11:15:06.967</td>\n",
       "    </tr>\n",
       "    <tr>\n",
       "      <th>2</th>\n",
       "      <td>3</td>\n",
       "      <td>224</td>\n",
       "      <td>2</td>\n",
       "      <td>3C915B31-7C05-4A05-9859-0DF663677240</td>\n",
       "      <td>2014-09-12 11:15:06.967</td>\n",
       "    </tr>\n",
       "    <tr>\n",
       "      <th>3</th>\n",
       "      <td>4</td>\n",
       "      <td>11387</td>\n",
       "      <td>2</td>\n",
       "      <td>3DC70CC4-3AE8-424F-8B1F-481C5478E941</td>\n",
       "      <td>2014-09-12 11:15:06.967</td>\n",
       "    </tr>\n",
       "    <tr>\n",
       "      <th>4</th>\n",
       "      <td>5</td>\n",
       "      <td>190</td>\n",
       "      <td>2</td>\n",
       "      <td>C0ED2F68-937B-4594-9459-581AC53C98E3</td>\n",
       "      <td>2014-09-12 11:15:06.967</td>\n",
       "    </tr>\n",
       "  </tbody>\n",
       "</table>\n",
       "</div>"
      ],
      "text/plain": [
       "   BusinessEntityID  AddressID  AddressTypeID  \\\n",
       "0                 1        249              2   \n",
       "1                 2        293              2   \n",
       "2                 3        224              2   \n",
       "3                 4      11387              2   \n",
       "4                 5        190              2   \n",
       "\n",
       "                                rowguid            ModifiedDate  \n",
       "0  3A5D0A00-6739-4DFE-A8F7-844CD9DEE3DF 2014-09-12 11:15:06.967  \n",
       "1  84AE7057-EDF4-4C51-8B8D-3AEAEFBFB4A1 2014-09-12 11:15:06.967  \n",
       "2  3C915B31-7C05-4A05-9859-0DF663677240 2014-09-12 11:15:06.967  \n",
       "3  3DC70CC4-3AE8-424F-8B1F-481C5478E941 2014-09-12 11:15:06.967  \n",
       "4  C0ED2F68-937B-4594-9459-581AC53C98E3 2014-09-12 11:15:06.967  "
      ]
     },
     "execution_count": 23,
     "metadata": {},
     "output_type": "execute_result"
    }
   ],
   "source": [
    "# Parameters\n",
    "# Parameters\n",
    "server_name = 'DESKTOP-SRKG50F\\SHANKAR'\n",
    "DATABASE_NAME = 'AdventureWorks2019'\n",
    "\n",
    "# Create the connection\n",
    "conn = pyodbc.connect(\"\"\"\n",
    "            DRIVER={{SQL Server Native Client 11.0}};\n",
    "            SERVER={0};\n",
    "            DATABASE={1};\n",
    "            Trusted_Connection=yes\"\"\".format(server_name,DATABASE_NAME))\n",
    "\n",
    "# query db\n",
    "sql = \"\"\"\n",
    "SELECT *\n",
    "FROM Person.BusinessEntityAddress\n",
    "\n",
    "\"\"\"\n",
    "df = pandas.read_sql(sql,conn)\n",
    "df.head()"
   ]
  },
  {
   "cell_type": "code",
   "execution_count": null,
   "id": "188627cb",
   "metadata": {},
   "outputs": [],
   "source": []
  }
 ],
 "metadata": {
  "kernelspec": {
   "display_name": "Python 3",
   "language": "python",
   "name": "python3"
  },
  "language_info": {
   "codemirror_mode": {
    "name": "ipython",
    "version": 3
   },
   "file_extension": ".py",
   "mimetype": "text/x-python",
   "name": "python",
   "nbconvert_exporter": "python",
   "pygments_lexer": "ipython3",
   "version": "3.8.8"
  }
 },
 "nbformat": 4,
 "nbformat_minor": 5
}
